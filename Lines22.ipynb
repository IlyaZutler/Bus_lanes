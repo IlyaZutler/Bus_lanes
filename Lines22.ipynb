{
  "cells": [
    {
      "cell_type": "markdown",
      "metadata": {
        "id": "x2LlDGNZrFLJ"
      },
      "source": [
        "<a href=\"https://colab.research.google.com/github/IlyaZutler/Bus_lanes/blob/main/DM%20_%20LinesGPT.ipynb\" target=\"_parent\"><img src=\"https://colab.research.google.com/assets/colab-badge.svg\" alt=\"Open In Colab\"/></a>"
      ]
    },
    {
      "cell_type": "code",
      "source": [
        "import pandas as pd\n",
        "import geopandas as gpd\n",
        "import numpy as np\n",
        "from shapely.geometry import LineString, Point\n",
        "from shapely.ops import unary_union\n",
        "from shapely.strtree import STRtree\n",
        "import folium\n",
        "from geopy.distance import geodesic"
      ],
      "metadata": {
        "id": "ftOOozryrI-r"
      },
      "execution_count": 81,
      "outputs": []
    },
    {
      "cell_type": "code",
      "source": [
        "# Загрузка данных о Выделенных полосах\n",
        "gdf_bus_lanes = gpd.read_file(\"bus-lanes.geojson\")\n",
        "# Выделяем линии Москвы\n",
        "gdf_bus_lanes = gdf_bus_lanes[gdf_bus_lanes['short_name'] == 'Москва']\n",
        "# Устанавливаем корректную CRS\n",
        "gdf_bus_lanes = gdf_bus_lanes.set_crs(\"EPSG:4326\")\n",
        "# gdf_bus_lanes.sample(1)"
      ],
      "metadata": {
        "id": "B9gevWDfrQh7"
      },
      "execution_count": 82,
      "outputs": []
    },
    {
      "cell_type": "code",
      "source": [
        "# Преобразуем CRS в метры (EPSG:3857)\n",
        "gdf_bus_lanes = gdf_bus_lanes.to_crs(epsg=3857)\n",
        "# Делаем buffer на 30 метров\n",
        "gdf_bus_lanes[\"geometry\"] = gdf_bus_lanes.geometry.buffer(30)\n",
        "# Возвращаем обратно в географические координаты (EPSG:4326)\n",
        "gdf_bus_lanes = gdf_bus_lanes.to_crs(epsg=4326)\n",
        "# gdf_bus_lanes.sample(2)\n",
        "# Объединяем все POLYGON в один\n",
        "bus_lanes_union = unary_union(gdf_bus_lanes.geometry)"
      ],
      "metadata": {
        "id": "oMSoQpiOfelq"
      },
      "execution_count": 83,
      "outputs": []
    },
    {
      "cell_type": "code",
      "source": [
        "# 'trips.xlsx' is uploaded to Colab environment\n",
        "df_trips = pd.read_excel('77601_21.02.25-22.03.25.xlsx', header=0)  # header=0 means the first row is the header"
      ],
      "metadata": {
        "id": "jmh_drPPrQlM"
      },
      "execution_count": 84,
      "outputs": []
    },
    {
      "cell_type": "code",
      "source": [
        "# Split the 'Coordinates' column into 'Longitude' and 'Latitude'\n",
        "df_trips = df_trips[~pd.isna(df_trips['Сoordinates'])]\n",
        "df_trips[['Latitude', 'Longitude']] = df_trips['Сoordinates'].str.replace('°', '').str.replace(',', '.').str.split('. ', expand=True)\n",
        "\n",
        "# Convert 'Day_time' to datetime objects\n",
        "df_trips['Day_time'] = pd.to_datetime(df_trips['Day_time'], format='%d.%m.%Y %H:%M:%S', errors='coerce')\n",
        "\n",
        "# df_trips['Ignition'] = df_trips['Ignition'].str.replace('-', '0').str.replace('+', '1')\n",
        "\n",
        "df_trips = df_trips.sort_values(['Car_ID', 'Day_time'])  # Сортируем по времени\n",
        "\n",
        "# Преобразование поездок в геометрию\n",
        "df_trips['geometry'] = [Point(lon, lat) for lon, lat in zip(df_trips['Longitude'], df_trips['Latitude'])]\n",
        "df_trips = gpd.GeoDataFrame(df_trips, geometry='geometry', crs=\"EPSG:4326\")\n",
        "\n",
        "# df_trips.sample(1)"
      ],
      "metadata": {
        "id": "gUeNqpi3rY-s"
      },
      "execution_count": 85,
      "outputs": []
    },
    {
      "cell_type": "code",
      "source": [
        "# # вариант 1\n",
        "# # Проверяем пересечение точек с объединенной зоной\n",
        "# df_trips[\"on_bus_lane\"] = df_trips[\"geometry\"].apply(lambda point: bus_lanes_union.intersects(point))"
      ],
      "metadata": {
        "id": "tB34kNvszOEa"
      },
      "execution_count": null,
      "outputs": []
    },
    {
      "cell_type": "code",
      "source": [
        "# Вариант 2 векторной проверки\n",
        "# Векторизованная проверка пересечений\n",
        "df_trips[\"on_bus_lane\"] = gpd.GeoSeries(df_trips[\"geometry\"]).intersects(bus_lanes_union)"
      ],
      "metadata": {
        "id": "PICK5ukO8mZe"
      },
      "execution_count": 86,
      "outputs": []
    },
    {
      "cell_type": "code",
      "source": [
        "# # Вариант 3 с индексацией точек в STRtree\n",
        "# points = df_trips[\"geometry\"].tolist()  # Список точек shapely.Point\n",
        "\n",
        "# # Создаем STRtree для точек\n",
        "# tree = STRtree(points)\n",
        "\n",
        "# # Запрос: найти точки, которые потенциально пересекаются с полигоном\n",
        "# candidate_indices = tree.query(bus_lanes_union)  # Индексы точек, чьи bounding box пересекаются\n",
        "\n",
        "# # Проверяем точное пересечение только для кандидатов\n",
        "# candidates = [points[i] for i in candidate_indices]\n",
        "# intersects = [bus_lanes_union.intersects(point) for point in candidates]\n",
        "\n",
        "# # Создаем результат для всех точек\n",
        "# df_trips[\"on_bus_lane\"] = False\n",
        "# for idx, intersect in zip(candidate_indices, intersects):\n",
        "#     df_trips.loc[idx, \"on_bus_lane\"] = intersect"
      ],
      "metadata": {
        "id": "YITKPGK7C4mV"
      },
      "execution_count": 65,
      "outputs": []
    },
    {
      "cell_type": "code",
      "source": [
        "# Анализ скорости на участках\n",
        "df_trips[\"next_time\"] = df_trips.groupby('Car_ID')['Day_time'].shift(-1)\n",
        "df_trips[\"next_lon\"] = df_trips.groupby('Car_ID')['Longitude'].shift(-1)\n",
        "df_trips[\"next_lat\"] = df_trips.groupby('Car_ID')['Latitude'].shift(-1)\n",
        "df_trips[\"next_on_bus_lane\"] = df_trips.groupby('Car_ID')['on_bus_lane'].shift(-1)\n",
        "\n",
        "# Вычисляем расстояние между последовательными точками в км\n",
        "# Создаем два массива для координат\n",
        "coords1 = np.column_stack((df_trips['Latitude'], df_trips['Longitude']))\n",
        "coords2 = np.column_stack((df_trips['next_lat'], df_trips['next_lon']))\n",
        "\n",
        "# Функция для вычисления расстояний\n",
        "def calculate_distances(coords1, coords2):\n",
        "    return np.array([geodesic((lat1, lon1), (lat2, lon2)).meters / 1000\n",
        "                     if not pd.isna(lat2) else np.nan\n",
        "                     for (lat1, lon1), (lat2, lon2) in zip(coords1, coords2)])\n",
        "\n",
        "# Применяем функцию для всей таблицы\n",
        "df_trips['distance'] = calculate_distances(coords1, coords2)\n",
        "\n",
        "# Вычисляем время между последовательными точками, часов, Заменяем NaN на None\n",
        "time_diff = (df_trips[\"next_time\"] - df_trips['Day_time']).dt.total_seconds() / 3600\n",
        "df_trips[\"time\"] = time_diff.where(df_trips[\"next_time\"].notna(), None)\n",
        "\n",
        "# Проверяем, чтобы значения в столбцах \"distance\" и \"time\" были валидными, и вычисляем скорость\n",
        "df_trips[\"speed\"] = np.where(\n",
        "    (pd.notnull(df_trips[\"distance\"])) & (df_trips[\"time\"].notnull()) & (df_trips[\"time\"] != 0),\n",
        "    df_trips[\"distance\"] / df_trips[\"time\"],\n",
        "    None\n",
        ")"
      ],
      "metadata": {
        "id": "y_kfJx-FzrRK"
      },
      "execution_count": 87,
      "outputs": []
    },
    {
      "cell_type": "code",
      "source": [
        "# Оценка скорости на выделенных полосах\n",
        "avg_speed_bus_lane = 50\n",
        "\n",
        "# Рассчитываем предсказанное время для каждой строки\n",
        "df_trips['predicted_time'] = np.where(\n",
        "    (df_trips[\"on_bus_lane\"] & df_trips[\"next_on_bus_lane\"]),\n",
        "    np.minimum(df_trips['time'], df_trips['distance'] / avg_speed_bus_lane),\n",
        "    df_trips['time']\n",
        ")"
      ],
      "metadata": {
        "id": "anPFZIQoI_3P"
      },
      "execution_count": 88,
      "outputs": []
    },
    {
      "cell_type": "code",
      "source": [
        "# время в движении, часов\n",
        "total_time = df_trips.loc[df_trips['speed'] > 0, 'time'].sum()\n",
        "# время в движении с использованием выделенных полос, часов\n",
        "total_predicted_time = df_trips.loc[df_trips['speed'] > 0, 'predicted_time'].sum()\n",
        "total_time_saved = total_time - total_predicted_time\n",
        "\n",
        "print(f\"Общее время в движении: {total_time :.2f} часов\")\n",
        "print(f\"Общая экономия времени: {total_time_saved :.2f} часов\")\n",
        "print(f\"% экономии времени: {total_time_saved / total_time  * 100  :.2f} %\")"
      ],
      "metadata": {
        "colab": {
          "base_uri": "https://localhost:8080/"
        },
        "id": "ptz-ah7eOMtE",
        "outputId": "528a1256-99ae-42f3-be74-caf9c094c6e2"
      },
      "execution_count": 89,
      "outputs": [
        {
          "output_type": "stream",
          "name": "stdout",
          "text": [
            "Общее время в движении: 161.41 часов\n",
            "Общая экономия времени: 6.20 часов\n",
            "% экономии времени: 3.84 %\n"
          ]
        }
      ]
    }
  ],
  "metadata": {
    "colab": {
      "provenance": []
    },
    "kernelspec": {
      "display_name": "Python 3",
      "name": "python3"
    },
    "language_info": {
      "name": "python"
    }
  },
  "nbformat": 4,
  "nbformat_minor": 0
}