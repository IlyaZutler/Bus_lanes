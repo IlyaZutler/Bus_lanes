{
 "cells": [
  {
   "cell_type": "markdown",
   "metadata": {},
   "source": [
    "<a href=\"https://colab.research.google.com/github/IlyaZutler/Bus_lanes/blob/main/DM%20_%20LinesGrok.ipynb\" target=\"_parent\"><img src=\"https://colab.research.google.com/assets/colab-badge.svg\" alt=\"Open In Colab\"/></a>"
   ]
  },
  {
   "cell_type": "code",
   "execution_count": null,
   "metadata": {
    "id": "6iDmvnwZ9IvV"
   },
   "outputs": [],
   "source": [
    "import pandas as pd\n",
    "import geopandas as gpd\n",
    "from shapely.geometry import Point, LineString\n",
    "import numpy as np\n",
    "\n",
    "# Загрузка данных\n",
    "trips = pd.read_csv('trips.csv')  # №_машины, Дата_Время, Широта, Долгота\n",
    "bus_lanes = gpd.read_file('bus_lanes.geojson')  # Выделенные полосы\n",
    "\n",
    "# Преобразование поездок в геометрию\n",
    "trips['geometry'] = trips.apply(lambda row: Point(row['Долгота'], row['Широта']), axis=1)\n",
    "trips_gdf = gpd.GeoDataFrame(trips, geometry='geometry')\n",
    "\n",
    "# Функция для поиска пересечений траектории с полосами\n",
    "def find_overlap(trajectory, bus_lane):\n",
    "    buffer = bus_lane.buffer(0.0005)  # ~50 метров в десятичных градусах\n",
    "    overlap = trajectory.within(buffer)\n",
    "    return overlap\n",
    "\n",
    "# Группировка по машинам и построение траекторий\n",
    "for car_id, group in trips_gdf.groupby('№_машины'):\n",
    "    group = group.sort_values('Дата_Время')\n",
    "    trajectory = LineString(group['geometry'].tolist())\n",
    "\n",
    "    # Проверка пересечения с каждой выделенной полосой\n",
    "    for idx, lane in bus_lanes.iterrows():\n",
    "        if find_overlap(trajectory, lane['geometry']):\n",
    "            # Вычисление времени и длины сегмента\n",
    "            segment = group[group.within(lane['geometry'].buffer(0.0005))]\n",
    "            time_current = (pd.to_datetime(segment['Дата_Время'].iloc[-1]) -\n",
    "                           pd.to_datetime(segment['Дата_Время'].iloc[0])).total_seconds() / 3600\n",
    "            length = lane['length'] / 1000  # в км\n",
    "            speed_bus_lane = 50  # км/ч (пример)\n",
    "            time_bus_lane = length / speed_bus_lane\n",
    "            time_gain = time_current - time_bus_lane\n",
    "            print(f\"Машина {car_id}, сегмент {idx}: выигрыш {time_gain:.2f} часов\")"
   ]
  }
 ],
 "metadata": {
  "colab": {
   "authorship_tag": "ABX9TyMA+w81xqQahCqwmO1/ptmx",
   "provenance": [
    {
     "file_id": "1qxf6ULI_gd8OIfZ3_HIuwLgeGq75LMkW",
     "timestamp": 1742078266708
    }
   ]
  },
  "kernelspec": {
   "display_name": "Python 3",
   "name": "python3"
  },
  "language_info": {
   "name": "python"
  }
 },
 "nbformat": 4,
 "nbformat_minor": 0
}
