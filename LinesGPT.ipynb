{
  "cells": [
    {
      "cell_type": "markdown",
      "metadata": {
        "id": "x2LlDGNZrFLJ"
      },
      "source": [
        "<a href=\"https://colab.research.google.com/github/IlyaZutler/Bus_lanes/blob/main/DM%20_%20LinesGPT.ipynb\" target=\"_parent\"><img src=\"https://colab.research.google.com/assets/colab-badge.svg\" alt=\"Open In Colab\"/></a>"
      ]
    },
    {
      "cell_type": "code",
      "source": [
        "import pandas as pd\n",
        "import geopandas as gpd\n",
        "from shapely.geometry import LineString, Point\n",
        "import folium"
      ],
      "metadata": {
        "id": "ftOOozryrI-r"
      },
      "execution_count": 1,
      "outputs": []
    },
    {
      "cell_type": "code",
      "source": [
        "# Assuming 'trips.xlsx' is uploaded to your Colab environment\n",
        "df_trips = pd.read_excel('trips.xlsx', header=0)  # header=0 means the first row is the header\n",
        "df_trips.sample(2)"
      ],
      "metadata": {
        "id": "jmh_drPPrQlM"
      },
      "execution_count": null,
      "outputs": []
    },
    {
      "cell_type": "code",
      "source": [
        "# Split the 'Coordinates' column into 'Longitude' and 'Latitude'\n",
        "df_trips['Сoordinates'] = df_trips['Сoordinates'].str.replace('°', '').str.replace(',', '.')\n",
        "df_trips[['Longitude', 'Latitude']] = df_trips['Сoordinates'].str.split('. ', expand=True)\n",
        "df_trips.drop(['Сoordinates'], axis=1, inplace=True)\n",
        "\n",
        "# Convert 'Day_time' to datetime objects\n",
        "df_trips['Day_time'] = pd.to_datetime(df_trips['Day_time'], errors='coerce')\n",
        "\n",
        "df_trips['Ignition'] = df_trips['Ignition'].str.replace('-', '0').str.replace('+', '1')\n",
        "\n",
        "df_trips = df_trips.sort_values(['Car_ID', 'Day_time'])  # Сортируем по времени\n",
        "\n",
        "df_trips"
      ],
      "metadata": {
        "id": "gUeNqpi3rY-s"
      },
      "execution_count": null,
      "outputs": []
    },
    {
      "cell_type": "code",
      "source": [
        "# Преобразование поездок в геометрию\n",
        "# df_trips['geometry'] = df_trips.apply(lambda row: Point(row['Longitude'], row['Latitude']), axis=1)\n",
        "# df_trips_gdf = gpd.GeoDataFrame(df_trips, geometry='geometry')"
      ],
      "metadata": {
        "id": "feQ_yu3Pr0jM"
      },
      "execution_count": null,
      "outputs": []
    },
    {
      "cell_type": "code",
      "source": [
        "# Загрузка данных о Выделенных полосах\n",
        "gdf_bus_lanes = gpd.read_file(\"bus_lanes.geojson\")\n",
        "gdf_bus_lanes = gdf_bus_lanes.set_crs(\"EPSG:4326\")"
      ],
      "metadata": {
        "id": "B9gevWDfrQh7"
      },
      "execution_count": null,
      "outputs": []
    },
    {
      "cell_type": "code",
      "source": [
        "# Создаем траектории машин\n",
        "def create_trajectories(df):\n",
        "    trajs = []\n",
        "    for car_id, group in df.groupby('Car_ID'):\n",
        "        points = [Point(lon, lat) for lon, lat in zip(group['Longitude'], group['Latitude'])]\n",
        "        trajs.append({'Car_ID': car_id, \"geometry\": LineString(points)})\n",
        "    return gpd.GeoDataFrame(trajs, crs=\"EPSG:4326\")\n",
        "\n",
        "gdf_trips = create_trajectories(df_trips)"
      ],
      "metadata": {
        "id": "FUVvUDuAtCY7"
      },
      "execution_count": null,
      "outputs": []
    },
    {
      "cell_type": "code",
      "source": [
        "# Добавляем buffer(0.0003) к выделенным полосам - примерно 30 метров\n",
        "gdf_bus_lanes[\"geometry\"] = gdf_bus_lanes[\"geometry\"].buffer(0.0003)\n",
        "\n",
        "# Определяем пересечения с учетом buffer\n",
        "gdf_trips[\"on_bus_lane\"] = gdf_trips.intersects(gdf_bus_lanes.unary_union)"
      ],
      "metadata": {
        "id": "7GjwzpGQuj47"
      },
      "execution_count": null,
      "outputs": []
    },
    {
      "cell_type": "code",
      "execution_count": null,
      "metadata": {
        "id": "Zdg72Khy8r9Y"
      },
      "outputs": [],
      "source": [
        "\n",
        "\n",
        "# Анализ скорости на участках\n",
        "df_trips[\"next_time\"] = df_trips.groupby(\"№_машины\")[\"Дата_Время\"].shift(-1)\n",
        "df_trips[\"next_lon\"] = df_trips.groupby(\"№_машины\")[\"Долгота\"].shift(-1)\n",
        "df_trips[\"next_lat\"] = df_trips.groupby(\"№_машины\")[\"Широта\"].shift(-1)\n",
        "\n",
        "# Вычисление времени и расстояний\n",
        "from geopy.distance import geodesic\n",
        "\n",
        "def compute_speed(row):\n",
        "    if pd.isnull(row[\"next_time\"]):\n",
        "        return None\n",
        "    distance = geodesic((row[\"Широта\"], row[\"Долгота\"]), (row[\"next_lat\"], row[\"next_lon\"])).meters\n",
        "    time_diff = (row[\"next_time\"] - row[\"Дата_Время\"]).total_seconds()\n",
        "    return distance / time_diff if time_diff > 0 else None\n",
        "\n",
        "df_trips[\"speed\"] = df_trips.apply(compute_speed, axis=1)\n",
        "\n",
        "# Средняя скорость на выделенных полосах и вне их\n",
        "avg_speed_bus_lane = 25  # Можно получить из данных общественного транспорта\n",
        "avg_speed_normal = df_trips[\"speed\"].median()\n",
        "\n",
        "# Оценка выигрыша во времени\n",
        "df_trips[\"predicted_time\"] = df_trips.apply(\n",
        "    lambda row: row[\"distance\"] / avg_speed_bus_lane if row[\"on_bus_lane\"] else row[\"distance\"] / row[\"speed\"],\n",
        "    axis=1\n",
        ")\n",
        "df_trips[\"time_saved\"] = df_trips[\"time\"] - df_trips[\"predicted_time\"]\n",
        "\n",
        "# Итоговый выигрыш во времени\n",
        "total_time_saved = df_trips[\"time_saved\"].sum()\n",
        "\n",
        "print(f\"Общая экономия времени: {total_time_saved / 3600:.2f} часов\")\n"
      ]
    },
    {
      "cell_type": "markdown",
      "metadata": {
        "id": "lSwQIS3crFLM"
      },
      "source": []
    }
  ],
  "metadata": {
    "colab": {
      "provenance": []
    },
    "kernelspec": {
      "display_name": "Python 3",
      "name": "python3"
    },
    "language_info": {
      "name": "python"
    }
  },
  "nbformat": 4,
  "nbformat_minor": 0
}