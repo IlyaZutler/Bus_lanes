{
 "cells": [
  {
   "cell_type": "markdown",
   "metadata": {},
   "source": [
    "<a href=\"https://colab.research.google.com/github/IlyaZutler/Bus_lanes/blob/main/DM%20_%20LinesGPT.ipynb\" target=\"_parent\"><img src=\"https://colab.research.google.com/assets/colab-badge.svg\" alt=\"Open In Colab\"/></a>"
   ]
  },
  {
   "cell_type": "code",
   "execution_count": null,
   "metadata": {
    "id": "Zdg72Khy8r9Y"
   },
   "outputs": [],
   "source": [
    "import pandas as pd\n",
    "import geopandas as gpd\n",
    "from shapely.geometry import LineString, Point\n",
    "import folium\n",
    "\n",
    "# Загрузка данных\n",
    "df_trips = pd.read_csv(\"trips.csv\", parse_dates=[\"Дата_Время\"])\n",
    "df_trips = df_trips.sort_values([\"№_машины\", \"Дата_Время\"])  # Сортируем по времени\n",
    "\n",
    "gdf_bus_lanes = gpd.read_file(\"bus_lanes.geojson\")  # Загружаем выделенные полосы\n",
    "gdf_bus_lanes = gdf_bus_lanes.set_crs(\"EPSG:4326\")  # Указываем систему координат\n",
    "\n",
    "# Создаем траектории машин\n",
    "def create_trajectories(df):\n",
    "    trajs = []\n",
    "    for car_id, group in df.groupby(\"№_машины\"):\n",
    "        points = [Point(lon, lat) for lon, lat in zip(group[\"Долгота\"], group[\"Широта\"])]\n",
    "        trajs.append({\"№_машины\": car_id, \"geometry\": LineString(points)})\n",
    "    return gpd.GeoDataFrame(trajs, crs=\"EPSG:4326\")\n",
    "\n",
    "gdf_trips = create_trajectories(df_trips)\n",
    "\n",
    "# Определяем пересечения с выделенными полосами\n",
    "gdf_trips[\"on_bus_lane\"] = gdf_trips.intersects(gdf_bus_lanes.unary_union)\n",
    "\n",
    "# Анализ скорости на участках\n",
    "df_trips[\"next_time\"] = df_trips.groupby(\"№_машины\")[\"Дата_Время\"].shift(-1)\n",
    "df_trips[\"next_lon\"] = df_trips.groupby(\"№_машины\")[\"Долгота\"].shift(-1)\n",
    "df_trips[\"next_lat\"] = df_trips.groupby(\"№_машины\")[\"Широта\"].shift(-1)\n",
    "\n",
    "# Вычисление времени и расстояний\n",
    "from geopy.distance import geodesic\n",
    "\n",
    "def compute_speed(row):\n",
    "    if pd.isnull(row[\"next_time\"]):\n",
    "        return None\n",
    "    distance = geodesic((row[\"Широта\"], row[\"Долгота\"]), (row[\"next_lat\"], row[\"next_lon\"])).meters\n",
    "    time_diff = (row[\"next_time\"] - row[\"Дата_Время\"]).total_seconds()\n",
    "    return distance / time_diff if time_diff > 0 else None\n",
    "\n",
    "df_trips[\"speed\"] = df_trips.apply(compute_speed, axis=1)\n",
    "\n",
    "# Средняя скорость на выделенных полосах и вне их\n",
    "avg_speed_bus_lane = 25  # Можно получить из данных общественного транспорта\n",
    "avg_speed_normal = df_trips[\"speed\"].median()\n",
    "\n",
    "# Оценка выигрыша во времени\n",
    "df_trips[\"predicted_time\"] = df_trips.apply(\n",
    "    lambda row: row[\"distance\"] / avg_speed_bus_lane if row[\"on_bus_lane\"] else row[\"distance\"] / row[\"speed\"],\n",
    "    axis=1\n",
    ")\n",
    "df_trips[\"time_saved\"] = df_trips[\"time\"] - df_trips[\"predicted_time\"]\n",
    "\n",
    "# Итоговый выигрыш во времени\n",
    "total_time_saved = df_trips[\"time_saved\"].sum()\n",
    "\n",
    "print(f\"Общая экономия времени: {total_time_saved / 3600:.2f} часов\")\n"
   ]
  },
  {
   "cell_type": "markdown",
   "metadata": {},
   "source": []
  }
 ],
 "metadata": {
  "colab": {
   "authorship_tag": "ABX9TyPM/YwILvlbTkVSPZuLl1rr",
   "provenance": []
  },
  "kernelspec": {
   "display_name": "Python 3",
   "name": "python3"
  },
  "language_info": {
   "name": "python"
  }
 },
 "nbformat": 4,
 "nbformat_minor": 0
}
