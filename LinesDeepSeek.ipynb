{
 "cells": [
  {
   "cell_type": "markdown",
   "metadata": {},
   "source": [
    "<a href=\"https://colab.research.google.com/github/IlyaZutler/Bus_lanes/blob/main/DM%20_%20LinesDeepSeek.ipynb\" target=\"_parent\"><img src=\"https://colab.research.google.com/assets/colab-badge.svg\" alt=\"Open In Colab\"/></a>"
   ]
  },
  {
   "cell_type": "code",
   "execution_count": null,
   "metadata": {
    "id": "nK8brJ7Jk-VC"
   },
   "outputs": [],
   "source": [
    "import pandas as pd\n",
    "import geopandas as gpd\n",
    "from shapely.geometry import LineString, Point\n",
    "\n",
    "# Загрузка данных\n",
    "trips_df = pd.read_csv('trips.csv')\n",
    "bus_lanes = gpd.read_file('bus_lanes.geojson')\n",
    "\n",
    "# Преобразование координат в геометрию\n",
    "trips_df['geometry'] = trips_df.apply(lambda row: Point(row['Долгота'], row['Широта']), axis=1)\n",
    "trips_gdf = gpd.GeoDataFrame(trips_df, geometry='geometry', crs=\"EPSG:4326\")\n",
    "\n",
    "# Построение траекторий поездок\n",
    "trips_gdf['trajectory'] = trips_gdf.groupby('№_машины')['geometry'].apply(lambda x: LineString(x.tolist()))\n",
    "\n",
    "# Пересечение траекторий с выделенными полосами\n",
    "intersections = gpd.overlay(trips_gdf, bus_lanes, how='intersection')\n",
    "\n",
    "# Оценка времени поездок\n",
    "# (Здесь нужно добавить логику для расчета времени с учетом выделенных полос)\n",
    "\n",
    "# Визуализация\n",
    "intersections.plot()"
   ]
  }
 ],
 "metadata": {
  "colab": {
   "authorship_tag": "ABX9TyPNs7+uhW/OwrUwaKWjJoYG",
   "provenance": []
  },
  "kernelspec": {
   "display_name": "Python 3",
   "name": "python3"
  },
  "language_info": {
   "name": "python"
  }
 },
 "nbformat": 4,
 "nbformat_minor": 0
}
